{
 "cells": [
  {
   "cell_type": "markdown",
   "metadata": {},
   "source": [
    "Aaron Sharkey"
   ]
  },
  {
   "cell_type": "markdown",
   "metadata": {},
   "source": [
    "20178948"
   ]
  },
  {
   "cell_type": "code",
   "execution_count": null,
   "metadata": {},
   "outputs": [],
   "source": [
    "'''\n",
    "Example equation 5x3+7x2+3x+6\n",
    "'''\n",
    "\n",
    "def derive(equation, variable):\n",
    "    print(\"Got Em\", equationuation)\n",
    "    \n",
    "eq = \"5x3+7x2+3x+6\"\n",
    "var = \"x\"\n",
    "\n",
    "derive(eq, variable)"
   ]
  }
 ],
 "metadata": {
  "kernelspec": {
   "display_name": "Python 3",
   "language": "python",
   "name": "python3"
  },
  "language_info": {
   "codemirror_mode": {
    "name": "ipython",
    "version": 3
   },
   "file_extension": ".py",
   "mimetype": "text/x-python",
   "name": "python",
   "nbconvert_exporter": "python",
   "pygments_lexer": "ipython3",
   "version": "3.8.3"
  }
 },
 "nbformat": 4,
 "nbformat_minor": 2
}
