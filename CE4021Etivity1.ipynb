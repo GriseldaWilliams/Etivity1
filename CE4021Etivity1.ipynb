{
 "cells": [
  {
   "cell_type": "markdown",
   "metadata": {},
   "source": [
    "# Etivity 1 - Aaron Sharkey - Student No.20178948 "
   ]
  },
  {
   "cell_type": "markdown",
   "metadata": {},
   "source": [
    "### Run Through\n",
    "\n",
    "The code below contains two functions :\n",
    "\n",
    "    - symbolic_derive\n",
    "        Performs symbolic derivation based on an array of coefficents representing a polynomial.\n",
    "    \n",
    "    - solve\n",
    "        Performs the substituitions and computes the derived polynomial with the provided variable and its value.\n",
    "        \n",
    "### Polynomial Manual Workings\n",
    "\n",
    "I provided 3 sample polynomials in the example_polys list to be derived then solved in the following code. Below I will provide the manual workings for each.\n",
    "\n",
    "    - 5x3 + 7x2 + 3x + 6\n",
    "        After applying the power rule becomes : 5(3x2) + 7(2x1) + 3(1) + 0\n",
    "        Simplifying yields the first derivation : 15x2 + 14x + 3\n",
    "        Solving for x = 2 yields: 15(2**2) + 14(2) + 3 => 91\n",
    "        \n",
    "    - 2x3 + 8x2 + 2x + 4\n",
    "        After applying the power rule becomes : 2(3x2) + 8(2x1) + 2(1) + 0\n",
    "        Simplifying yields the first derivation : 6x2 + 16x + 2\n",
    "        Solving for x = 2 yields: 6(2**2) + 8(2) + 2 => 58\n",
    "        \n",
    "    - 4x3 + 3x2 + 1x + 8\n",
    "        After applying the power rule becomes : 4(3x2) + 3(2x1) + 1(1) + 0\n",
    "        Simplifying yields the first derivation : 12x2 + 6x + 1\n",
    "        Solving for x = 2 yields: 12(2**2) + 6(2) + 1 => 61\n",
    "        "
   ]
  },
  {
   "cell_type": "code",
   "execution_count": 167,
   "metadata": {},
   "outputs": [],
   "source": [
    "'''\n",
    "Example equation 5x3+7x2+3x+6\n",
    "'''\n",
    "    \n",
    "# Carries out a symbolic derivation of a polynomial\n",
    "def symbolic_derive(poly_coefs):\n",
    "    derived = []\n",
    "    for index,coef in enumerate(poly_coefs):\n",
    "        if index == 0:\n",
    "            derived.append(str(coef*index))\n",
    "        elif index == 1:\n",
    "            derived.append(str(coef*index))\n",
    "        else:\n",
    "            new_coef = (coef*index)\n",
    "            new_exp = (index -1)\n",
    "            new_term = str(new_coef) + \"x\" + str(new_exp)\n",
    "            derived.append(new_term)\n",
    "    return derived\n",
    "\n",
    "# Solves a derived polynomial\n",
    "def solve(poly,var):\n",
    "    new_terms = []\n",
    "    for index,term in enumerate(poly):\n",
    "        split_term = term.split(\"x\")\n",
    "        if len(split_term) == 2 and split_term[-1] != '':\n",
    "            new_str_term = f\"{split_term[0]}*{var['value']} ** {split_term[-1]}\"\n",
    "            new_terms.append(new_str_term)\n",
    "        elif len(split_term[0]) == 1 and index < (len(poly) - 1):\n",
    "            new_str_term = f\"{split_term[0]}*1\"\n",
    "            new_terms.append(new_str_term)\n",
    "        else:\n",
    "            pass\n",
    "    \n",
    "    result = 0\n",
    "    for term in new_terms:\n",
    "        result += eval(term)\n",
    "        \n",
    "    return result\n",
    "\n",
    "def main():\n",
    "    \n",
    "    #These are example polynomials represented by their coefficients in an array\n",
    "    example_polys = [\n",
    "        [5,7,3,6],\n",
    "        [2,8,2,4],\n",
    "        [4,3,1,8],\n",
    "    ]\n",
    "\n",
    "    for coefs in example_polys:\n",
    "        # Reversing each coeffcient makes it easier to parse \n",
    "        coefs.reverse()\n",
    "        final_poly = symbolic_derive(coefs)\n",
    "        # Reversing polynomial back to the right away around before printing\n",
    "        final_poly.reverse()\n",
    "        print(f\"This is the symbolically derived polynomial \\n {final_poly} \\n\")\n",
    "        \n",
    "        # Small dictionary used to replace the defined variable with the set value\n",
    "        variable_dict = {\n",
    "            \"symbol\": \"x\",\n",
    "            \"value\" : 2\n",
    "        }\n",
    "        \n",
    "        # Making call to solve the polynomial\n",
    "        solved = solve(final_poly,variable_dict)\n",
    "        print(f\"This is the result of solving the polynomial where {variable_dict['symbol']} = {variable_dict['value']} is \\n {solved} \\n\")\n",
    "        \n"
   ]
  },
  {
   "cell_type": "code",
   "execution_count": 168,
   "metadata": {},
   "outputs": [
    {
     "name": "stdout",
     "output_type": "stream",
     "text": [
      "This is the symbolically derived polynomial \n",
      " ['15x2', '14x1', '3', '0'] \n",
      "\n",
      "This is the result of solving the polynomial where x = 2 is \n",
      " 91 \n",
      "\n",
      "This is the symbolically derived polynomial \n",
      " ['6x2', '16x1', '2', '0'] \n",
      "\n",
      "This is the result of solving the polynomial where x = 2 is \n",
      " 58 \n",
      "\n",
      "This is the symbolically derived polynomial \n",
      " ['12x2', '6x1', '1', '0'] \n",
      "\n",
      "This is the result of solving the polynomial where x = 2 is \n",
      " 61 \n",
      "\n"
     ]
    }
   ],
   "source": [
    "main()"
   ]
  }
 ],
 "metadata": {
  "kernelspec": {
   "display_name": "Python 3",
   "language": "python",
   "name": "python3"
  },
  "language_info": {
   "codemirror_mode": {
    "name": "ipython",
    "version": 3
   },
   "file_extension": ".py",
   "mimetype": "text/x-python",
   "name": "python",
   "nbconvert_exporter": "python",
   "pygments_lexer": "ipython3",
   "version": "3.8.3"
  }
 },
 "nbformat": 4,
 "nbformat_minor": 2
}
