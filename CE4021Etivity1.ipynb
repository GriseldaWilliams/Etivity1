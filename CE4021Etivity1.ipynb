{
 "cells": [
  {
   "cell_type": "markdown",
   "metadata": {},
   "source": [
    "Your name: Borislava Yordanova"
   ]
  },
  {
   "cell_type": "markdown",
   "metadata": {},
   "source": [
    "Your ID number: 20140428"
   ]
  },
  {
   "cell_type": "markdown",
   "metadata": {},
   "source": [
    "Option 1: Symbolic calculation of the derivative\n",
    "\n",
    "- The first one to symbolically calculate the derivative of a polynomial with one variable."
   ]
  },
  {
   "cell_type": "markdown",
   "metadata": {},
   "source": [
    "<img src=\"https://sites.google.com/site/julierose3801/_/rsrc/1417012394279/introductory-calculus/introductory-calculus/the-power-rule/ThePowerRule..png?height=150&width=320\" width=\"220px\" />"
   ]
  },
  {
   "cell_type": "markdown",
   "metadata": {},
   "source": [
    "There are five samples for this sub-task. The polynomial functions are presented using only their coefficients as the exponent of x is implied by the position in the list in ascending order. The goal is to have flexibility when it comes to scaling out the number of coefficients. Thus, the given samples, shown mathematically are:\n",
    "\n",
    "<img src=\"https://i.imgur.com/5mj1ofz.png\" width=\"500px\" />"
   ]
  },
  {
   "cell_type": "code",
   "execution_count": 3,
   "metadata": {},
   "outputs": [
    {
     "name": "stdout",
     "output_type": "stream",
     "text": [
      "Current sample = [5, 7, 3]\n",
      "Number of coefficienties in the expression = 3\n",
      "Derivative Function:\n",
      "\tf(x) = 5x**2 + 7x + 3\n",
      "Calculated Derivative:\n",
      "\tf'(x) = 10x + 7\n",
      "\n",
      "\n",
      "Current sample = [6, 4, 1, 7, 3, 4, 9, 15]\n",
      "Number of coefficienties in the expression = 8\n",
      "Derivative Function:\n",
      "\tf(x) = 6x**7 + 4x**6 + 1x**5 + 7x**4 + 3x**3 + 4x**2 + 9x + 15\n",
      "Calculated Derivative:\n",
      "\tf'(x) = 42x**6 + 24x**5 + 5x**4 + 28x**3 + 9x**2 + 8x + 9\n",
      "\n",
      "\n",
      "Current sample = [8, 12, 4, 8]\n",
      "Number of coefficienties in the expression = 4\n",
      "Derivative Function:\n",
      "\tf(x) = 8x**3 + 12x**2 + 4x + 8\n",
      "Calculated Derivative:\n",
      "\tf'(x) = 24x**2 + 24x + 4\n",
      "\n",
      "\n",
      "Current sample = [9, 5, 1, 4, 2, 9, 23, 8, 11]\n",
      "Number of coefficienties in the expression = 9\n",
      "Derivative Function:\n",
      "\tf(x) = 9x**8 + 5x**7 + 1x**6 + 4x**5 + 2x**4 + 9x**3 + 23x**2 + 8x + 11\n",
      "Calculated Derivative:\n",
      "\tf'(x) = 72x**7 + 35x**6 + 6x**5 + 20x**4 + 8x**3 + 27x**2 + 46x + 8\n",
      "\n",
      "\n",
      "Current sample = [2, 9, 21, 4, 5, 10]\n",
      "Number of coefficienties in the expression = 6\n",
      "Derivative Function:\n",
      "\tf(x) = 2x**5 + 9x**4 + 21x**3 + 4x**2 + 5x + 10\n",
      "Calculated Derivative:\n",
      "\tf'(x) = 10x**4 + 36x**3 + 63x**2 + 8x + 5\n",
      "\n",
      "\n"
     ]
    }
   ],
   "source": [
    "# List of polynomial functions represented using only their coefficients        \n",
    "samples = [\n",
    "    [5,7,3],\n",
    "    [6,4,1,7,3,4,9,15],\n",
    "    [8,12,4,8],\n",
    "    [9,5,1,4,2,9,23,8,11],\n",
    "    [2,9,21,4,5,10]\n",
    "]\n",
    "\n",
    "\n",
    "def display_derivative(coefficients):\n",
    "    \"\"\"Takes as parameter the current sample.\n",
    "    Displays a user-friendly information\"\"\"\n",
    "\n",
    "    try:\n",
    "        print('{}{}'.format('Current sample = ', coefficients))\n",
    "        print('{}{}'.format('Number of coefficienties in the expression = ', len(coefficients)))    \n",
    "\n",
    "        list_string = list(map(str, coefficients))\n",
    "        reversed_list = reversed(list(enumerate(reversed(coefficients)))) \n",
    "        derivative = []\n",
    "\n",
    "        for exponent, coefficient in reversed_list:\n",
    "            if exponent == 0:\n",
    "                derivative.append('{}'.format(coefficient))\n",
    "            elif exponent == 1:\n",
    "                derivative.append('{}{}'.format(coefficient,'x'))\n",
    "            else:\n",
    "                derivative.append('{}{}{}'.format(coefficient,'x**',exponent))        \n",
    "\n",
    "        print('{}\\t{}{}'.format('Derivative Function:\\n',\n",
    "                              'f(x) = ',\n",
    "                              ' + '.join(derivative)))\n",
    "    except:\n",
    "          print(\"An exception occurred.\")\n",
    "\n",
    "    \n",
    "def calculate_derivative(coefficients):   \n",
    "    \"\"\"Takes as parameter the current sample.\n",
    "    Splits the list to take every coefficient and exponent\"\"\"\n",
    "    \n",
    "    try:\n",
    "        display_derivative(coefficients)\n",
    "\n",
    "        calculated_derivative = []\n",
    "        reversed_list = reversed(list(enumerate(reversed(coefficients)))) \n",
    "\n",
    "        for exponent, coefficient in reversed_list:\n",
    "            calculate_coefficient(exponent, coefficient, calculated_derivative)\n",
    "\n",
    "        print('{}\\t{}{}\\n\\n'.format('Calculated Derivative:\\n',\n",
    "                              'f\\'(x) = ',\n",
    "                              ' + '.join(calculated_derivative)))\n",
    "    except:\n",
    "          print(\"An exception occurred\")\n",
    "\n",
    "\n",
    "def calculate_coefficient(exponent, coefficient, calculated_derivative):\n",
    "    \"\"\"Takes as parameter the coefficient, exponent and calculates them\"\"\"\n",
    "    \n",
    "    try:\n",
    "        if exponent != 0:\n",
    "            if exponent == 1:\n",
    "                calculated_derivative.append('{}'.format(coefficient))\n",
    "            elif exponent-1 == 1:\n",
    "                calculated_derivative.append('{}{}'.format(exponent * coefficient, 'x'))\n",
    "            else:\n",
    "                calculated_derivative.append('{}{}{}'.format(exponent * coefficient, 'x**', exponent - 1))\n",
    "    except:\n",
    "          print(\"An exception occurred.\")\n",
    "            \n",
    "# Iterate over the sample elements\n",
    "for coefficients in samples:\n",
    "    calculate_derivative(coefficients)\n"
   ]
  },
  {
   "cell_type": "markdown",
   "metadata": {},
   "source": [
    "Option 1: Symbolic calculation of the derivative\n",
    "\n",
    "- The second one to evaluate (i.e. get the numerical value) of a polynomial for a given value of its variable."
   ]
  },
  {
   "cell_type": "markdown",
   "metadata": {},
   "source": [
    "There are five samples for this sub-task. I store the samples in a doctionary, where the item Key represents the polynomial function as a string type and the item Value represents the value of the variable 'x'. The function for evaluating polynomial takes these two parameters (polynomial expression and value of x), evaluates and prints the result, in order to evaluate all of the sample elements, for loop is used, which iterate the ele\n",
    "<img src=\"https://i.imgur.com/x5SXQea.png\" width=\"400px\" />"
   ]
  },
  {
   "cell_type": "code",
   "execution_count": 4,
   "metadata": {},
   "outputs": [
    {
     "name": "stdout",
     "output_type": "stream",
     "text": [
      "Current polynomial = 8*x**2-5*x+6 \n",
      "With x value = 6\n",
      "Result y = 264\n",
      "\n",
      "\n",
      "Current polynomial = x**2+3*x \n",
      "With x value = 8\n",
      "Result y = 88\n",
      "\n",
      "\n",
      "Current polynomial = -2*x**3-5*x**2+x+3 \n",
      "With x value = 5\n",
      "Result y = -367\n",
      "\n",
      "\n",
      "Current polynomial = 4*x**5-x+6 \n",
      "With x value = 2\n",
      "Result y = 132\n",
      "\n",
      "\n",
      "Current polynomial = -2*x**2 \n",
      "With x value = 9\n",
      "Result y = -162\n",
      "\n",
      "\n"
     ]
    }
   ],
   "source": [
    "# Dictionary of polynomial functions \n",
    "# Represented using their math expression and x value    \n",
    "samples = {\n",
    "  '8*x**2-5*x+6': 6,\n",
    "  'x**2+3*x': 8,\n",
    "  '-2*x**3-5*x**2+x+3': 5,\n",
    "  '4*x**5-x+6': 2,\n",
    "  '-2*x**2': 9\n",
    "}\n",
    "\n",
    "# Takes as parameter the current sample and the value of x\n",
    "# and display the result\n",
    "def evaluate_polynomial(polynomial,x): \n",
    "   \n",
    "    # Evaluate the expression\n",
    "    y = eval(polynomial) \n",
    "  \n",
    "    # show the evaluated result \n",
    "    print(\"Result y = {}\\n\\n\".format(y)) \n",
    "\n",
    "# Iterate over the sample elements  \n",
    "for key, value in samples.items(): \n",
    "    print (\"Current polynomial = {} \\nWith x value = {}\".format(key,value)) \n",
    "    evaluate_polynomial(key, value)\n",
    "    "
   ]
  }
 ],
 "metadata": {
  "kernelspec": {
   "display_name": "Python 3",
   "language": "python",
   "name": "python3"
  },
  "language_info": {
   "codemirror_mode": {
    "name": "ipython",
    "version": 3
   },
   "file_extension": ".py",
   "mimetype": "text/x-python",
   "name": "python",
   "nbconvert_exporter": "python",
   "pygments_lexer": "ipython3",
   "version": "3.8.3"
  }
 },
 "nbformat": 4,
 "nbformat_minor": 4
}
