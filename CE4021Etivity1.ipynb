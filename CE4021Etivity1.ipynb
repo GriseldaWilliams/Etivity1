{
 "cells": [
  {
   "cell_type": "markdown",
   "metadata": {},
   "source": [
    "Your name: Stephan Daly"
   ]
  },
  {
   "cell_type": "markdown",
   "metadata": {},
   "source": [
    "Your ID number: 20177747"
   ]
  },
  {
   "cell_type": "markdown",
   "metadata": {},
   "source": [
    "I have chosen option $1$: Symbolic calculation of the derivative.  \n",
    "\n",
    "The below code takes the coefficents of a polynomial in ($p$) in ascending order, that is $$ p(x) = 6x^3 + 3x^2 + 7x + 5 $$\n",
    "\n",
    "The variable, $x$, takes the input to the polynomial.\n",
    "\n",
    "The function $Poly$ computes the value of a polynomial at the given $x$ value. \n",
    "\n",
    "The function $dpdx$ computes the derivative of a polynomial, and outputs a list containing the coefficients of the derivative. "
   ]
  },
  {
   "cell_type": "markdown",
   "metadata": {},
   "source": [
    "The function I have created to evaluate a polynomial at a given $x$ value requires the polynomial to be stored in a list, in ascending order, that is $6x^3 + 3x^2 + 7x + 5$ would be stored as [$5, 7, 3, 6$]. \n",
    "\n",
    "I have placed this requirement as I am using the index of the coefficient to act as the exponent. "
   ]
  },
  {
   "cell_type": "code",
   "execution_count": null,
   "metadata": {},
   "outputs": [],
   "source": []
  },
  {
   "cell_type": "code",
   "execution_count": 57,
   "metadata": {},
   "outputs": [
    {
     "data": {
      "text/plain": [
       "215"
      ]
     },
     "execution_count": 57,
     "metadata": {},
     "output_type": "execute_result"
    }
   ],
   "source": [
    "### Simple function to evaluate a polynomial given the coeffiecients in ascending order in a list, and the x value \n",
    "p = [5, 7, 3, 6]\n",
    "x = 3\n",
    "def Poly(Coefs, x):\n",
    "    res = 0\n",
    "    for i in range(len(Coefs)):\n",
    "        res = res + (Coefs[i] * (x ** i))\n",
    "    return(res)\n",
    "Poly(p, x)"
   ]
  },
  {
   "cell_type": "markdown",
   "metadata": {},
   "source": [
    "The function I have created to differentiate a given polynomial loops over the list in which the coeffiecients of the polynomial are stored, and computes the coefficients of the derivative. These new coefficients are then appended to a new list, which will represent the derivative of the polynomial. "
   ]
  },
  {
   "cell_type": "code",
   "execution_count": 46,
   "metadata": {},
   "outputs": [
    {
     "name": "stdout",
     "output_type": "stream",
     "text": [
      "[7, 6, 18]\n",
      "187\n"
     ]
    }
   ],
   "source": [
    "### Differentiate the above polynomial.  \n",
    "\n",
    "def dpdx(Coefs):\n",
    "    Coefs_prime = []\n",
    "    for i in range(1, len(Coefs)):\n",
    "        Coefs_prime.append(Coefs[i] * i)  \n",
    "    return Coefs_prime\n",
    "\n",
    "p = [5, 7, 3, 6]\n",
    "x = 3 \n",
    "p_x = Poly(p, x)\n",
    "p_prime = dpdx(p)\n",
    "print(p_prime)\n",
    "print(Poly(p_prime, x))"
   ]
  },
  {
   "cell_type": "markdown",
   "metadata": {},
   "source": [
    "The below code will test the robustness of the functions I have designed. To do this, I am going to try negative coefficients, negative $x$ values and longer/shorter polynomials. \n",
    "\n",
    "First I will test $-6x^7 + 18x^5 - 4x^3 + 6x - 4$, at $x = 2$.  The value should be $-216$. \n",
    "\n",
    "The derivative of this polynomial is $-42x^6 + 90x^4 - 12x^2 + 6$, and when $x = 2$, it takes a value of $-1290$"
   ]
  },
  {
   "cell_type": "code",
   "execution_count": 49,
   "metadata": {},
   "outputs": [
    {
     "name": "stdout",
     "output_type": "stream",
     "text": [
      "Polynomial has been correctly evaluated.\n",
      "[6, 0, -12, 0, 90, 0, -42]\n",
      "Derivative is correct.\n"
     ]
    }
   ],
   "source": [
    "## Evaluate Polynomial \n",
    "p_one = [-4, 6, 0, -4, 0, 18, 0, -6]\n",
    "x = 2\n",
    "p_one_val = Poly(p_one, x)\n",
    "if p_one_val == -216: \n",
    "    print(\"Polynomial has been correctly evaluated.\")\n",
    "else:\n",
    "    print(\"Polynomial has not been correctly evaluated.\")\n",
    "    \n",
    "## Evaluate the derivative. \n",
    "p_one_prime = dpdx(p_one)\n",
    "print(p_one_prime)\n",
    "p_one_prime_val = Poly(p_one_prime, x)\n",
    "if p_one_prime_val == -1290: \n",
    "    print(\"Derivative is correct.\")\n",
    "else:\n",
    "    print(\"Derivative is not correct. \")\n"
   ]
  },
  {
   "cell_type": "markdown",
   "metadata": {},
   "source": [
    "Next I will test a long polynomial, with a negative $x$ value; $9x^9 + 4x^8 + 6x^7 - x^6 + 2x^5 - 12x^4 + x^3 + 2x^2 - x + 1$ and I will take $x = - 3$\n",
    "\n",
    "The value this polynomial takes at $x = 3$ is $-166,217$. \n",
    "\n",
    "The derivative of this polynomial is $81x^8 + 32x^7 + 42x^6 - 6x^5 + 10x^4 - 48x^3 + 3x^2 + 4x - 1$, when $x = - 3$ this takes a value of $495,653$"
   ]
  },
  {
   "cell_type": "code",
   "execution_count": 60,
   "metadata": {},
   "outputs": [
    {
     "name": "stdout",
     "output_type": "stream",
     "text": [
      "Polynomial has been correctly evaluated.\n",
      "495653\n",
      "Derivative is correct.\n"
     ]
    }
   ],
   "source": [
    "p_two = [1, - 1, 2, 1, - 12, 2, - 1, 6, 4, 9]\n",
    "x = -3\n",
    "p_two_val = Poly(p_two, x)\n",
    "if p_two_val == -166217: \n",
    "    print(\"Polynomial has been correctly evaluated.\")\n",
    "else:\n",
    "    print(\"Polynomial has not been correctly evaluated.\")\n",
    "p_two_prime = dpdx(p_two)\n",
    "p_two_prime_val = Poly(p_two_prime, x)\n",
    "## Evaluate the derivative. \n",
    "if p_two_prime_val == 495653:\n",
    "    print(\"Derivative is correct.\")\n",
    "else:\n",
    "    print(\"Derivative is not correct. \")"
   ]
  },
  {
   "cell_type": "markdown",
   "metadata": {},
   "source": [
    "Finally, I will test a polynomial with non-integer coefficients. In this case, I will take $p(x) = 0.546x^3 - 0.765x^2 + 0.098x + 0.234$, and I will let $x = 0.5$. The value of this polynomial is approximately $0.16$. To account for any small issues, I have assigned an error value, to act as an allowable tolerance in the calculation. \n",
    "\n",
    "The derivative of this polynomial is $1.638x^2 -1.53x + 0.098$, and at $x = 0.5$, it takes the value $-0.2575$"
   ]
  },
  {
   "cell_type": "code",
   "execution_count": 66,
   "metadata": {},
   "outputs": [
    {
     "name": "stdout",
     "output_type": "stream",
     "text": [
      "Polynomial has been correctly evaluated.\n",
      "Derivative is correct.\n"
     ]
    }
   ],
   "source": [
    "p_three = [0.234, 0.098, -0.765, 0.546]\n",
    "x = 0.5\n",
    "p_three_val = Poly(p_three, x)\n",
    "## setting an acceptable error value due to the use of floats. \n",
    "epsilon = 0.0000000000001\n",
    "if (abs(p_three_val - 0.16) < epsilon):\n",
    "    print(\"Polynomial has been correctly evaluated.\")\n",
    "else:\n",
    "    print(\"Polynomial has not been correctly evaluated.\")\n",
    "## Evaluate the derivative. \n",
    "p_three_prime = dpdx(p_three)\n",
    "p_three_prime_val = Poly(p_three_prime, x)\n",
    "if p_three_prime_val == -0.2575: \n",
    "    print(\"Derivative is correct.\")\n",
    "else:\n",
    "    print(\"Derivative is not correct. \")\n",
    "    "
   ]
  },
  {
   "cell_type": "code",
   "execution_count": null,
   "metadata": {},
   "outputs": [],
   "source": []
  }
 ],
 "metadata": {
  "kernelspec": {
   "display_name": "Python 3",
   "language": "python",
   "name": "python3"
  },
  "language_info": {
   "codemirror_mode": {
    "name": "ipython",
    "version": 3
   },
   "file_extension": ".py",
   "mimetype": "text/x-python",
   "name": "python",
   "nbconvert_exporter": "python",
   "pygments_lexer": "ipython3",
   "version": "3.8.3"
  }
 },
 "nbformat": 4,
 "nbformat_minor": 2
}
